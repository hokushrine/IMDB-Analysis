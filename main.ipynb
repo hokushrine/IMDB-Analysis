{
 "cells": [
  {
   "cell_type": "code",
   "execution_count": 42,
   "metadata": {},
   "outputs": [],
   "source": [
    "# Imports\n",
    "import pandas as pd\n",
    "import numpy as np\n",
    "import gzip"
   ]
  },
  {
   "cell_type": "code",
   "execution_count": 43,
   "metadata": {},
   "outputs": [],
   "source": [
    "basics_url = \"https://datasets.imdbws.com/title.basics.tsv.gz\"\n",
    "ratings_url = \"https://datasets.imdbws.com/title.ratings.tsv.gz\"\n",
    "akas_url = \"https://datasets.imdbws.com/title.akas.tsv.gz\"\n",
    "\n",
    "basics = pd.read_csv(basics_url, sep='\\t', low_memory=False)\n",
    "ratings = pd.read_csv(ratings_url, sep='\\t', low_memory=False)\n",
    "akas = pd.read_csv(akas_url, sep='\\t', low_memory=False)\n",
    "\n",
    "\n",
    "\n"
   ]
  },
  {
   "cell_type": "markdown",
   "metadata": {},
   "source": [
    "# Preprocessing"
   ]
  },
  {
   "cell_type": "markdown",
   "metadata": {},
   "source": [
    "## AKAs Cleaning\n",
    "\n",
    "- Keep only US movies\n",
    "- Replace \"\\N\" with np.nan"
   ]
  },
  {
   "cell_type": "code",
   "execution_count": 44,
   "metadata": {},
   "outputs": [
    {
     "name": "stdout",
     "output_type": "stream",
     "text": [
      "US    1460475\n",
      "Name: region, dtype: int64\n"
     ]
    }
   ],
   "source": [
    "# Filter US movies\n",
    "akas = akas[akas['region'] == 'US']\n",
    "print(akas['region'].value_counts())\n",
    "\n",
    "# Replace \"\\N\" with np.nan\n",
    "akas.replace(\"\\\\N\", np.nan, inplace=True)"
   ]
  },
  {
   "cell_type": "code",
   "execution_count": 45,
   "metadata": {},
   "outputs": [
    {
     "data": {
      "text/plain": [
       "titleId                  0\n",
       "ordering                 0\n",
       "title                    0\n",
       "region                   0\n",
       "language           1456353\n",
       "types               477606\n",
       "attributes         1413133\n",
       "isOriginalTitle       1342\n",
       "dtype: int64"
      ]
     },
     "execution_count": 45,
     "metadata": {},
     "output_type": "execute_result"
    }
   ],
   "source": [
    "# Check for NaNs\n",
    "akas.isna().sum()"
   ]
  },
  {
   "cell_type": "markdown",
   "metadata": {},
   "source": [
    "## Titles Cleaning\n",
    "- Keep only US movies (Use AKAs table, see \"Filtering one dataframe based on another\" section below)\n",
    "- Replace \"\\N\" with np.nan\n",
    "- Eliminate movies that are null for runtimeMinutes\n",
    "- Eliminate movies that are null for genre\n",
    "- keep only titleType==Movie\n",
    "- Convert the startYear column to float data type.\n",
    "- Filter the dataframe using startYear. Keep years between 2000-2021 (Including 2000 and 2021)\n",
    "- Eliminate movies that include \"Documentary\" in the genre (see tip below)."
   ]
  },
  {
   "cell_type": "code",
   "execution_count": 46,
   "metadata": {},
   "outputs": [],
   "source": [
    "# Filter the basics table down to only include the US by using the filter akas dataframe\n",
    "keepers = basics['tconst'].isin(akas['titleId'])"
   ]
  },
  {
   "cell_type": "code",
   "execution_count": 47,
   "metadata": {},
   "outputs": [
    {
     "data": {
      "text/plain": [
       "tconst                  0\n",
       "titleType               0\n",
       "primaryTitle            0\n",
       "originalTitle           0\n",
       "isAdult                 0\n",
       "startYear           99233\n",
       "endYear           1335556\n",
       "runtimeMinutes     505573\n",
       "genres              28562\n",
       "dtype: int64"
      ]
     },
     "execution_count": 47,
     "metadata": {},
     "output_type": "execute_result"
    }
   ],
   "source": [
    "# Filter Basics based on the Akas dataframe\n",
    "basics = basics[basics['tconst'].isin(akas['titleId'])]\n",
    "\n",
    "# Replace \"\\N\" with np.NaN\n",
    "basics.replace(\"\\\\N\", np.nan, inplace=True)\n",
    "\n",
    "# Confirm that nans exist\n",
    "basics.isna().sum()"
   ]
  },
  {
   "cell_type": "code",
   "execution_count": 48,
   "metadata": {},
   "outputs": [],
   "source": [
    "# Remove movies that are null for runtimeMinutes and genre\n",
    "basics.dropna(subset=['runtimeMinutes', 'genres'], inplace=True)\n",
    "\n",
    "# Keep only titleType == 'movie'\n",
    "basics = basics[basics['titleType'] == 'movie']\n",
    "\n",
    "# Convert startYear to float data type\n",
    "basics['startYear'] = basics['startYear'].astype(float)\n",
    "\n",
    "# Filter the dataframe using startYear\n",
    "basics = basics[(basics['startYear'] >= 2000) & (basics['startYear'] <= 2021)]\n",
    "\n",
    "# Remove movies that have the \"Documentary\" genere\n",
    "basics = basics[~basics['genres'].str.contains('Documentary')]"
   ]
  },
  {
   "cell_type": "markdown",
   "metadata": {},
   "source": [
    "## Ratings Cleaning"
   ]
  },
  {
   "cell_type": "code",
   "execution_count": 49,
   "metadata": {},
   "outputs": [],
   "source": [
    "# Keep only movies that were included in the final title basics dataframe\n",
    "ratings = ratings[ratings['tconst'].isin(basics['tconst'])]\n",
    "\n",
    "# Replace \"\\N\" with np.nan\n",
    "ratings.replace(\"\\\\N\", np.nan, inplace=True)"
   ]
  },
  {
   "cell_type": "code",
   "execution_count": 50,
   "metadata": {},
   "outputs": [
    {
     "data": {
      "text/plain": [
       "tconst           0\n",
       "averageRating    0\n",
       "numVotes         0\n",
       "dtype: int64"
      ]
     },
     "execution_count": 50,
     "metadata": {},
     "output_type": "execute_result"
    }
   ],
   "source": [
    "# Check for nans in Ratings\n",
    "ratings.isna().sum()"
   ]
  },
  {
   "cell_type": "markdown",
   "metadata": {},
   "source": [
    "# Export dataframes to files"
   ]
  },
  {
   "cell_type": "code",
   "execution_count": 51,
   "metadata": {},
   "outputs": [],
   "source": [
    "## Save current dataframe to file.\n",
    "basics.to_csv(\"Data/title_basics.csv.gz\",compression='gzip',index=False)"
   ]
  },
  {
   "cell_type": "code",
   "execution_count": 52,
   "metadata": {},
   "outputs": [
    {
     "data": {
      "text/html": [
       "<div>\n",
       "<style scoped>\n",
       "    .dataframe tbody tr th:only-of-type {\n",
       "        vertical-align: middle;\n",
       "    }\n",
       "\n",
       "    .dataframe tbody tr th {\n",
       "        vertical-align: top;\n",
       "    }\n",
       "\n",
       "    .dataframe thead th {\n",
       "        text-align: right;\n",
       "    }\n",
       "</style>\n",
       "<table border=\"1\" class=\"dataframe\">\n",
       "  <thead>\n",
       "    <tr style=\"text-align: right;\">\n",
       "      <th></th>\n",
       "      <th>tconst</th>\n",
       "      <th>titleType</th>\n",
       "      <th>primaryTitle</th>\n",
       "      <th>originalTitle</th>\n",
       "      <th>isAdult</th>\n",
       "      <th>startYear</th>\n",
       "      <th>endYear</th>\n",
       "      <th>runtimeMinutes</th>\n",
       "      <th>genres</th>\n",
       "    </tr>\n",
       "  </thead>\n",
       "  <tbody>\n",
       "    <tr>\n",
       "      <th>0</th>\n",
       "      <td>tt0035423</td>\n",
       "      <td>movie</td>\n",
       "      <td>Kate &amp; Leopold</td>\n",
       "      <td>Kate &amp; Leopold</td>\n",
       "      <td>0</td>\n",
       "      <td>2001.0</td>\n",
       "      <td>NaN</td>\n",
       "      <td>118</td>\n",
       "      <td>Comedy,Fantasy,Romance</td>\n",
       "    </tr>\n",
       "    <tr>\n",
       "      <th>1</th>\n",
       "      <td>tt0062336</td>\n",
       "      <td>movie</td>\n",
       "      <td>The Tango of the Widower and Its Distorting Mi...</td>\n",
       "      <td>El tango del viudo y su espejo deformante</td>\n",
       "      <td>0</td>\n",
       "      <td>2020.0</td>\n",
       "      <td>NaN</td>\n",
       "      <td>70</td>\n",
       "      <td>Drama</td>\n",
       "    </tr>\n",
       "    <tr>\n",
       "      <th>2</th>\n",
       "      <td>tt0068865</td>\n",
       "      <td>movie</td>\n",
       "      <td>Lives of Performers</td>\n",
       "      <td>Lives of Performers</td>\n",
       "      <td>0</td>\n",
       "      <td>2016.0</td>\n",
       "      <td>NaN</td>\n",
       "      <td>90</td>\n",
       "      <td>Drama</td>\n",
       "    </tr>\n",
       "    <tr>\n",
       "      <th>3</th>\n",
       "      <td>tt0069049</td>\n",
       "      <td>movie</td>\n",
       "      <td>The Other Side of the Wind</td>\n",
       "      <td>The Other Side of the Wind</td>\n",
       "      <td>0</td>\n",
       "      <td>2018.0</td>\n",
       "      <td>NaN</td>\n",
       "      <td>122</td>\n",
       "      <td>Drama</td>\n",
       "    </tr>\n",
       "    <tr>\n",
       "      <th>4</th>\n",
       "      <td>tt0088751</td>\n",
       "      <td>movie</td>\n",
       "      <td>The Naked Monster</td>\n",
       "      <td>The Naked Monster</td>\n",
       "      <td>0</td>\n",
       "      <td>2005.0</td>\n",
       "      <td>NaN</td>\n",
       "      <td>100</td>\n",
       "      <td>Comedy,Horror,Sci-Fi</td>\n",
       "    </tr>\n",
       "  </tbody>\n",
       "</table>\n",
       "</div>"
      ],
      "text/plain": [
       "      tconst titleType                                       primaryTitle  \\\n",
       "0  tt0035423     movie                                     Kate & Leopold   \n",
       "1  tt0062336     movie  The Tango of the Widower and Its Distorting Mi...   \n",
       "2  tt0068865     movie                                Lives of Performers   \n",
       "3  tt0069049     movie                         The Other Side of the Wind   \n",
       "4  tt0088751     movie                                  The Naked Monster   \n",
       "\n",
       "                               originalTitle  isAdult  startYear  endYear  \\\n",
       "0                             Kate & Leopold        0     2001.0      NaN   \n",
       "1  El tango del viudo y su espejo deformante        0     2020.0      NaN   \n",
       "2                        Lives of Performers        0     2016.0      NaN   \n",
       "3                 The Other Side of the Wind        0     2018.0      NaN   \n",
       "4                          The Naked Monster        0     2005.0      NaN   \n",
       "\n",
       "   runtimeMinutes                  genres  \n",
       "0             118  Comedy,Fantasy,Romance  \n",
       "1              70                   Drama  \n",
       "2              90                   Drama  \n",
       "3             122                   Drama  \n",
       "4             100    Comedy,Horror,Sci-Fi  "
      ]
     },
     "execution_count": 52,
     "metadata": {},
     "output_type": "execute_result"
    }
   ],
   "source": [
    "# Open saved file and preview again\n",
    "basics = pd.read_csv(\"Data/title_basics.csv.gz\", low_memory = False)\n",
    "basics.head()"
   ]
  },
  {
   "cell_type": "code",
   "execution_count": 53,
   "metadata": {},
   "outputs": [],
   "source": [
    "## Save current dataframe to file.\n",
    "ratings.to_csv(\"Data/title_ratings.csv.gz\",compression='gzip',index=False)"
   ]
  },
  {
   "cell_type": "code",
   "execution_count": 54,
   "metadata": {},
   "outputs": [
    {
     "data": {
      "text/html": [
       "<div>\n",
       "<style scoped>\n",
       "    .dataframe tbody tr th:only-of-type {\n",
       "        vertical-align: middle;\n",
       "    }\n",
       "\n",
       "    .dataframe tbody tr th {\n",
       "        vertical-align: top;\n",
       "    }\n",
       "\n",
       "    .dataframe thead th {\n",
       "        text-align: right;\n",
       "    }\n",
       "</style>\n",
       "<table border=\"1\" class=\"dataframe\">\n",
       "  <thead>\n",
       "    <tr style=\"text-align: right;\">\n",
       "      <th></th>\n",
       "      <th>tconst</th>\n",
       "      <th>averageRating</th>\n",
       "      <th>numVotes</th>\n",
       "    </tr>\n",
       "  </thead>\n",
       "  <tbody>\n",
       "    <tr>\n",
       "      <th>0</th>\n",
       "      <td>tt0035423</td>\n",
       "      <td>6.4</td>\n",
       "      <td>87333</td>\n",
       "    </tr>\n",
       "    <tr>\n",
       "      <th>1</th>\n",
       "      <td>tt0062336</td>\n",
       "      <td>6.4</td>\n",
       "      <td>179</td>\n",
       "    </tr>\n",
       "    <tr>\n",
       "      <th>2</th>\n",
       "      <td>tt0068865</td>\n",
       "      <td>5.4</td>\n",
       "      <td>75</td>\n",
       "    </tr>\n",
       "    <tr>\n",
       "      <th>3</th>\n",
       "      <td>tt0069049</td>\n",
       "      <td>6.7</td>\n",
       "      <td>7793</td>\n",
       "    </tr>\n",
       "    <tr>\n",
       "      <th>4</th>\n",
       "      <td>tt0088751</td>\n",
       "      <td>5.2</td>\n",
       "      <td>338</td>\n",
       "    </tr>\n",
       "  </tbody>\n",
       "</table>\n",
       "</div>"
      ],
      "text/plain": [
       "      tconst  averageRating  numVotes\n",
       "0  tt0035423            6.4     87333\n",
       "1  tt0062336            6.4       179\n",
       "2  tt0068865            5.4        75\n",
       "3  tt0069049            6.7      7793\n",
       "4  tt0088751            5.2       338"
      ]
     },
     "execution_count": 54,
     "metadata": {},
     "output_type": "execute_result"
    }
   ],
   "source": [
    "# Open saved file and preview again\n",
    "ratings = pd.read_csv(\"Data/title_ratings.csv.gz\", low_memory = False)\n",
    "ratings.head()\n",
    "\n"
   ]
  },
  {
   "cell_type": "code",
   "execution_count": 55,
   "metadata": {},
   "outputs": [],
   "source": [
    "## Save current dataframe to file.\n",
    "akas.to_csv(\"Data/title_akas.csv.gz\",compression='gzip',index=False)"
   ]
  },
  {
   "cell_type": "code",
   "execution_count": 56,
   "metadata": {},
   "outputs": [
    {
     "data": {
      "text/html": [
       "<div>\n",
       "<style scoped>\n",
       "    .dataframe tbody tr th:only-of-type {\n",
       "        vertical-align: middle;\n",
       "    }\n",
       "\n",
       "    .dataframe tbody tr th {\n",
       "        vertical-align: top;\n",
       "    }\n",
       "\n",
       "    .dataframe thead th {\n",
       "        text-align: right;\n",
       "    }\n",
       "</style>\n",
       "<table border=\"1\" class=\"dataframe\">\n",
       "  <thead>\n",
       "    <tr style=\"text-align: right;\">\n",
       "      <th></th>\n",
       "      <th>titleId</th>\n",
       "      <th>ordering</th>\n",
       "      <th>title</th>\n",
       "      <th>region</th>\n",
       "      <th>language</th>\n",
       "      <th>types</th>\n",
       "      <th>attributes</th>\n",
       "      <th>isOriginalTitle</th>\n",
       "    </tr>\n",
       "  </thead>\n",
       "  <tbody>\n",
       "    <tr>\n",
       "      <th>0</th>\n",
       "      <td>tt0000001</td>\n",
       "      <td>6</td>\n",
       "      <td>Carmencita</td>\n",
       "      <td>US</td>\n",
       "      <td>NaN</td>\n",
       "      <td>imdbDisplay</td>\n",
       "      <td>NaN</td>\n",
       "      <td>0.0</td>\n",
       "    </tr>\n",
       "    <tr>\n",
       "      <th>1</th>\n",
       "      <td>tt0000002</td>\n",
       "      <td>7</td>\n",
       "      <td>The Clown and His Dogs</td>\n",
       "      <td>US</td>\n",
       "      <td>NaN</td>\n",
       "      <td>NaN</td>\n",
       "      <td>literal English title</td>\n",
       "      <td>0.0</td>\n",
       "    </tr>\n",
       "    <tr>\n",
       "      <th>2</th>\n",
       "      <td>tt0000005</td>\n",
       "      <td>10</td>\n",
       "      <td>Blacksmith Scene</td>\n",
       "      <td>US</td>\n",
       "      <td>NaN</td>\n",
       "      <td>imdbDisplay</td>\n",
       "      <td>NaN</td>\n",
       "      <td>0.0</td>\n",
       "    </tr>\n",
       "    <tr>\n",
       "      <th>3</th>\n",
       "      <td>tt0000005</td>\n",
       "      <td>1</td>\n",
       "      <td>Blacksmithing Scene</td>\n",
       "      <td>US</td>\n",
       "      <td>NaN</td>\n",
       "      <td>alternative</td>\n",
       "      <td>NaN</td>\n",
       "      <td>0.0</td>\n",
       "    </tr>\n",
       "    <tr>\n",
       "      <th>4</th>\n",
       "      <td>tt0000005</td>\n",
       "      <td>6</td>\n",
       "      <td>Blacksmith Scene #1</td>\n",
       "      <td>US</td>\n",
       "      <td>NaN</td>\n",
       "      <td>alternative</td>\n",
       "      <td>NaN</td>\n",
       "      <td>0.0</td>\n",
       "    </tr>\n",
       "  </tbody>\n",
       "</table>\n",
       "</div>"
      ],
      "text/plain": [
       "     titleId  ordering                   title region language        types  \\\n",
       "0  tt0000001         6              Carmencita     US      NaN  imdbDisplay   \n",
       "1  tt0000002         7  The Clown and His Dogs     US      NaN          NaN   \n",
       "2  tt0000005        10        Blacksmith Scene     US      NaN  imdbDisplay   \n",
       "3  tt0000005         1     Blacksmithing Scene     US      NaN  alternative   \n",
       "4  tt0000005         6     Blacksmith Scene #1     US      NaN  alternative   \n",
       "\n",
       "              attributes  isOriginalTitle  \n",
       "0                    NaN              0.0  \n",
       "1  literal English title              0.0  \n",
       "2                    NaN              0.0  \n",
       "3                    NaN              0.0  \n",
       "4                    NaN              0.0  "
      ]
     },
     "execution_count": 56,
     "metadata": {},
     "output_type": "execute_result"
    }
   ],
   "source": [
    "# Open saved file and preview again\n",
    "akas = pd.read_csv(\"Data/title_akas.csv.gz\", low_memory = False)\n",
    "akas.head()\n",
    "\n"
   ]
  },
  {
   "cell_type": "code",
   "execution_count": 57,
   "metadata": {},
   "outputs": [
    {
     "name": "stdout",
     "output_type": "stream",
     "text": [
      "<class 'pandas.core.frame.DataFrame'>\n",
      "RangeIndex: 82005 entries, 0 to 82004\n",
      "Data columns (total 9 columns):\n",
      " #   Column          Non-Null Count  Dtype  \n",
      "---  ------          --------------  -----  \n",
      " 0   tconst          82005 non-null  object \n",
      " 1   titleType       82005 non-null  object \n",
      " 2   primaryTitle    82005 non-null  object \n",
      " 3   originalTitle   82005 non-null  object \n",
      " 4   isAdult         82005 non-null  int64  \n",
      " 5   startYear       82005 non-null  float64\n",
      " 6   endYear         0 non-null      float64\n",
      " 7   runtimeMinutes  82005 non-null  int64  \n",
      " 8   genres          82005 non-null  object \n",
      "dtypes: float64(2), int64(2), object(5)\n",
      "memory usage: 5.6+ MB\n"
     ]
    },
    {
     "data": {
      "text/plain": [
       "None"
      ]
     },
     "metadata": {},
     "output_type": "display_data"
    },
    {
     "name": "stdout",
     "output_type": "stream",
     "text": [
      "<class 'pandas.core.frame.DataFrame'>\n",
      "RangeIndex: 1460475 entries, 0 to 1460474\n",
      "Data columns (total 8 columns):\n",
      " #   Column           Non-Null Count    Dtype  \n",
      "---  ------           --------------    -----  \n",
      " 0   titleId          1460475 non-null  object \n",
      " 1   ordering         1460475 non-null  int64  \n",
      " 2   title            1460475 non-null  object \n",
      " 3   region           1460475 non-null  object \n",
      " 4   language         4122 non-null     object \n",
      " 5   types            982869 non-null   object \n",
      " 6   attributes       47342 non-null    object \n",
      " 7   isOriginalTitle  1459133 non-null  float64\n",
      "dtypes: float64(1), int64(1), object(6)\n",
      "memory usage: 89.1+ MB\n"
     ]
    },
    {
     "data": {
      "text/plain": [
       "None"
      ]
     },
     "metadata": {},
     "output_type": "display_data"
    },
    {
     "name": "stdout",
     "output_type": "stream",
     "text": [
      "<class 'pandas.core.frame.DataFrame'>\n",
      "RangeIndex: 68127 entries, 0 to 68126\n",
      "Data columns (total 3 columns):\n",
      " #   Column         Non-Null Count  Dtype  \n",
      "---  ------         --------------  -----  \n",
      " 0   tconst         68127 non-null  object \n",
      " 1   averageRating  68127 non-null  float64\n",
      " 2   numVotes       68127 non-null  int64  \n",
      "dtypes: float64(1), int64(1), object(1)\n",
      "memory usage: 1.6+ MB\n"
     ]
    },
    {
     "data": {
      "text/plain": [
       "None"
      ]
     },
     "metadata": {},
     "output_type": "display_data"
    }
   ],
   "source": [
    "display(basics.info())\n",
    "display(akas.info())\n",
    "display(ratings.info())"
   ]
  }
 ],
 "metadata": {
  "kernelspec": {
   "display_name": "dojo-env",
   "language": "python",
   "name": "python3"
  },
  "language_info": {
   "codemirror_mode": {
    "name": "ipython",
    "version": 3
   },
   "file_extension": ".py",
   "mimetype": "text/x-python",
   "name": "python",
   "nbconvert_exporter": "python",
   "pygments_lexer": "ipython3",
   "version": "3.9.15"
  },
  "orig_nbformat": 4
 },
 "nbformat": 4,
 "nbformat_minor": 2
}
